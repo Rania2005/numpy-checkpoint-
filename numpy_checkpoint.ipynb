{
  "nbformat": 4,
  "nbformat_minor": 0,
  "metadata": {
    "colab": {
      "name": "numpy checkpoint",
      "provenance": []
    },
    "kernelspec": {
      "name": "python3",
      "display_name": "Python 3"
    },
    "language_info": {
      "name": "python"
    }
  },
  "cells": [
    {
      "cell_type": "code",
      "metadata": {
        "colab": {
          "base_uri": "https://localhost:8080/"
        },
        "id": "BXrWGvz39r1_",
        "outputId": "f0be117f-a372-47d8-995d-076c3b4bf492"
      },
      "source": [
        "#question 1\n",
        "import numpy as np\n",
        "a=np.array([[2,3,5],[4,5,8],[6,7,4]])\n",
        "a\n"
      ],
      "execution_count": 10,
      "outputs": [
        {
          "output_type": "execute_result",
          "data": {
            "text/plain": [
              "array([[2, 3, 5],\n",
              "       [4, 5, 8],\n",
              "       [6, 7, 4]])"
            ]
          },
          "metadata": {},
          "execution_count": 10
        }
      ]
    },
    {
      "cell_type": "code",
      "metadata": {
        "colab": {
          "base_uri": "https://localhost:8080/"
        },
        "id": "P5c47ApA-OH4",
        "outputId": "5b7473c5-f06d-482c-f6ce-37fec3abf5c4"
      },
      "source": [
        "l=a.tolist()\n",
        "l"
      ],
      "execution_count": 11,
      "outputs": [
        {
          "output_type": "execute_result",
          "data": {
            "text/plain": [
              "[[2, 3, 5], [4, 5, 8], [6, 7, 4]]"
            ]
          },
          "metadata": {},
          "execution_count": 11
        }
      ]
    },
    {
      "cell_type": "code",
      "metadata": {
        "colab": {
          "base_uri": "https://localhost:8080/"
        },
        "id": "uXjkigO6-RPk",
        "outputId": "b835632d-b78b-40cc-8d75-4a046f93102f"
      },
      "source": [
        "#question 2\n",
        "   #second method:\n",
        "M=a.trace()\n",
        "M"
      ],
      "execution_count": 12,
      "outputs": [
        {
          "output_type": "execute_result",
          "data": {
            "text/plain": [
              "11"
            ]
          },
          "metadata": {},
          "execution_count": 12
        }
      ]
    },
    {
      "cell_type": "code",
      "metadata": {
        "colab": {
          "base_uri": "https://localhost:8080/"
        },
        "id": "X7MCBGSt-rSQ",
        "outputId": "bd6e197d-2984-4ee7-90a6-504a9a5de0d7"
      },
      "source": [
        "     #first method\n",
        "sum=0\n",
        "X=a.shape\n",
        "row=X[0]\n",
        "col=X[1]\n",
        "for i in range (row):\n",
        "  sum=sum+a[i,i]\n",
        "sum"
      ],
      "execution_count": 13,
      "outputs": [
        {
          "output_type": "execute_result",
          "data": {
            "text/plain": [
              "11"
            ]
          },
          "metadata": {},
          "execution_count": 13
        }
      ]
    },
    {
      "cell_type": "code",
      "metadata": {
        "colab": {
          "base_uri": "https://localhost:8080/"
        },
        "id": "wGozyi_h_LPF",
        "outputId": "32a6456f-1d4a-4218-ec59-c734185e9d8b"
      },
      "source": [
        "#question 3\n",
        "a=np.array([[2,3,5],[4,5,8],[6,7,4]])\n",
        "X=4\n",
        "print(a[X<a])\n",
        "\n"
      ],
      "execution_count": 16,
      "outputs": [
        {
          "output_type": "stream",
          "name": "stdout",
          "text": [
            "[5 5 8 6 7]\n"
          ]
        }
      ]
    },
    {
      "cell_type": "code",
      "metadata": {
        "colab": {
          "base_uri": "https://localhost:8080/"
        },
        "id": "QzAdkAgMEbH4",
        "outputId": "93977981-6065-48fe-ea55-3acb94119086"
      },
      "source": [
        "#question 4\n",
        "A=np.array([[2,3],[4,5]])\n",
        "B=np.array([[5,8],[6,7]])\n",
        "C=A+B\n",
        "C\n",
        "\n"
      ],
      "execution_count": 18,
      "outputs": [
        {
          "output_type": "execute_result",
          "data": {
            "text/plain": [
              "array([[ 7, 11],\n",
              "       [10, 12]])"
            ]
          },
          "metadata": {},
          "execution_count": 18
        }
      ]
    },
    {
      "cell_type": "code",
      "metadata": {
        "colab": {
          "base_uri": "https://localhost:8080/"
        },
        "id": "yCDcrmcOHMjK",
        "outputId": "a93a90cb-5778-4b11-b22e-a0a1666834fc"
      },
      "source": [
        "v=np.array([[2,3,9],[4,4,5],[1,5,8]])\n",
        "\n",
        "v\n",
        "\n"
      ],
      "execution_count": 21,
      "outputs": [
        {
          "output_type": "execute_result",
          "data": {
            "text/plain": [
              "array([[2, 3, 9],\n",
              "       [4, 4, 5],\n",
              "       [1, 5, 8]])"
            ]
          },
          "metadata": {},
          "execution_count": 21
        }
      ]
    },
    {
      "cell_type": "code",
      "metadata": {
        "colab": {
          "base_uri": "https://localhost:8080/"
        },
        "id": "pHl2wzX5JZKi",
        "outputId": "596af36b-93ec-460e-d811-75005c2a5e27"
      },
      "source": [
        "x=v.shape\n",
        "row=x[0]\n",
        "for i in range (row):\n",
        "    y=np.mean(v[i])\n",
        "    print(\"the mean of row\",i,\" =\", y)\n"
      ],
      "execution_count": 23,
      "outputs": [
        {
          "output_type": "stream",
          "name": "stdout",
          "text": [
            "the mean of row 0  = 4.666666666666667\n",
            "the mean of row 1  = 4.333333333333333\n",
            "the mean of row 2  = 4.666666666666667\n"
          ]
        }
      ]
    }
  ]
}